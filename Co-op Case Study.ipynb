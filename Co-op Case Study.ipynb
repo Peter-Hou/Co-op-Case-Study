{
 "cells": [
  {
   "cell_type": "markdown",
   "source": [
    "# Import Libraries"
   ],
   "metadata": {
    "collapsed": false
   }
  },
  {
   "cell_type": "code",
   "execution_count": 1,
   "metadata": {
    "collapsed": true,
    "ExecuteTime": {
     "end_time": "2023-09-21T17:11:18.110224Z",
     "start_time": "2023-09-21T17:11:17.801239Z"
    }
   },
   "outputs": [],
   "source": [
    "import string\n",
    "import pandas as pd\n",
    "from io import StringIO"
   ]
  },
  {
   "cell_type": "markdown",
   "source": [
    "# Load Data"
   ],
   "metadata": {
    "collapsed": false
   }
  },
  {
   "cell_type": "code",
   "execution_count": 2,
   "outputs": [],
   "source": [
    "data = '''\n",
    "'Airline Code;DelayTimes;FlightCodes;To_From\\nAir Canada (!);[21, 40];20015.0;WAterLoo_NEWYork\\n<Air France> (12);[];;Montreal_TORONTO\\n(Porter Airways. );[60, 22, 87];20035.0;CALgary_Ottawa\\n12. Air France;[78, 66];;Ottawa_VANcouvER\\n\"\"\".\\\\.Lufthansa.\\\\.\"\"\";[12, 33];20055.0;london_MONTreal\\n'\n",
    "'''\n"
   ],
   "metadata": {
    "collapsed": false,
    "ExecuteTime": {
     "end_time": "2023-09-21T17:11:18.118363Z",
     "start_time": "2023-09-21T17:11:18.111417Z"
    }
   }
  },
  {
   "cell_type": "code",
   "execution_count": 3,
   "outputs": [],
   "source": [
    "df = pd.read_csv(StringIO(data), delimiter = \";\", engine = 'python')"
   ],
   "metadata": {
    "collapsed": false,
    "ExecuteTime": {
     "end_time": "2023-09-21T17:11:18.125010Z",
     "start_time": "2023-09-21T17:11:18.119346Z"
    }
   }
  },
  {
   "cell_type": "code",
   "execution_count": 4,
   "outputs": [],
   "source": [
    "df = df.drop(5, axis = 0)"
   ],
   "metadata": {
    "collapsed": false,
    "ExecuteTime": {
     "end_time": "2023-09-21T17:11:18.130090Z",
     "start_time": "2023-09-21T17:11:18.125498Z"
    }
   }
  },
  {
   "cell_type": "markdown",
   "source": [
    "# 1. Fill missing values for FlightCodes"
   ],
   "metadata": {
    "collapsed": false
   }
  },
  {
   "cell_type": "code",
   "execution_count": 5,
   "outputs": [],
   "source": [
    "flight_code_increment = 10\n",
    "\n",
    "df['FlightCodes'] = pd.Series(range(round(df['FlightCodes'].min()), round(df['FlightCodes'].max()) + 1, flight_code_increment))"
   ],
   "metadata": {
    "collapsed": false,
    "ExecuteTime": {
     "end_time": "2023-09-21T17:11:18.240761Z",
     "start_time": "2023-09-21T17:11:18.235969Z"
    }
   }
  },
  {
   "cell_type": "code",
   "execution_count": 6,
   "outputs": [
    {
     "data": {
      "text/plain": "        'Airline Code    DelayTimes  FlightCodes           To_From\n0      Air Canada (!)      [21, 40]        20015  WAterLoo_NEWYork\n1   <Air France> (12)            []        20025  Montreal_TORONTO\n2  (Porter Airways. )  [60, 22, 87]        20035    CALgary_Ottawa\n3      12. Air France      [78, 66]        20045  Ottawa_VANcouvER\n4   \".\\.Lufthansa.\\.\"      [12, 33]        20055   london_MONTreal",
      "text/html": "<div>\n<style scoped>\n    .dataframe tbody tr th:only-of-type {\n        vertical-align: middle;\n    }\n\n    .dataframe tbody tr th {\n        vertical-align: top;\n    }\n\n    .dataframe thead th {\n        text-align: right;\n    }\n</style>\n<table border=\"1\" class=\"dataframe\">\n  <thead>\n    <tr style=\"text-align: right;\">\n      <th></th>\n      <th>'Airline Code</th>\n      <th>DelayTimes</th>\n      <th>FlightCodes</th>\n      <th>To_From</th>\n    </tr>\n  </thead>\n  <tbody>\n    <tr>\n      <th>0</th>\n      <td>Air Canada (!)</td>\n      <td>[21, 40]</td>\n      <td>20015</td>\n      <td>WAterLoo_NEWYork</td>\n    </tr>\n    <tr>\n      <th>1</th>\n      <td>&lt;Air France&gt; (12)</td>\n      <td>[]</td>\n      <td>20025</td>\n      <td>Montreal_TORONTO</td>\n    </tr>\n    <tr>\n      <th>2</th>\n      <td>(Porter Airways. )</td>\n      <td>[60, 22, 87]</td>\n      <td>20035</td>\n      <td>CALgary_Ottawa</td>\n    </tr>\n    <tr>\n      <th>3</th>\n      <td>12. Air France</td>\n      <td>[78, 66]</td>\n      <td>20045</td>\n      <td>Ottawa_VANcouvER</td>\n    </tr>\n    <tr>\n      <th>4</th>\n      <td>\".\\.Lufthansa.\\.\"</td>\n      <td>[12, 33]</td>\n      <td>20055</td>\n      <td>london_MONTreal</td>\n    </tr>\n  </tbody>\n</table>\n</div>"
     },
     "execution_count": 6,
     "metadata": {},
     "output_type": "execute_result"
    }
   ],
   "source": [
    "df"
   ],
   "metadata": {
    "collapsed": false,
    "ExecuteTime": {
     "end_time": "2023-09-21T17:11:18.241036Z",
     "start_time": "2023-09-21T17:11:18.236106Z"
    }
   }
  },
  {
   "cell_type": "markdown",
   "source": [
    "## Covert the Data Type to Int"
   ],
   "metadata": {
    "collapsed": false
   }
  },
  {
   "cell_type": "code",
   "execution_count": 7,
   "outputs": [],
   "source": [
    "df['FlightCodes'] = df['FlightCodes'].astype(int)"
   ],
   "metadata": {
    "collapsed": false,
    "ExecuteTime": {
     "end_time": "2023-09-21T17:11:18.241081Z",
     "start_time": "2023-09-21T17:11:18.236158Z"
    }
   }
  },
  {
   "cell_type": "markdown",
   "source": [
    "# 2.Split To_From Columns"
   ],
   "metadata": {
    "collapsed": false
   }
  },
  {
   "cell_type": "code",
   "execution_count": 8,
   "outputs": [],
   "source": [
    "df[['To', 'From']] = df['To_From'].str.split(\"_\", expand = True)"
   ],
   "metadata": {
    "collapsed": false,
    "ExecuteTime": {
     "end_time": "2023-09-21T17:11:18.259623Z",
     "start_time": "2023-09-21T17:11:18.239750Z"
    }
   }
  },
  {
   "cell_type": "markdown",
   "source": [
    "## Capitalize the Location"
   ],
   "metadata": {
    "collapsed": false
   }
  },
  {
   "cell_type": "code",
   "execution_count": 9,
   "outputs": [],
   "source": [
    "df['To'] = df['To'].str.lower().str.capitalize()\n",
    "df['From'] = df['From'].str.lower().str.capitalize()\n",
    "df = df.drop('To_From', axis = 1)"
   ],
   "metadata": {
    "collapsed": false,
    "ExecuteTime": {
     "end_time": "2023-09-21T17:11:18.259936Z",
     "start_time": "2023-09-21T17:11:18.251551Z"
    }
   }
  },
  {
   "cell_type": "code",
   "execution_count": 10,
   "outputs": [
    {
     "data": {
      "text/plain": "        'Airline Code    DelayTimes  FlightCodes        To       From\n0      Air Canada (!)      [21, 40]        20015  Waterloo    Newyork\n1   <Air France> (12)            []        20025  Montreal    Toronto\n2  (Porter Airways. )  [60, 22, 87]        20035   Calgary     Ottawa\n3      12. Air France      [78, 66]        20045    Ottawa  Vancouver\n4   \".\\.Lufthansa.\\.\"      [12, 33]        20055    London   Montreal",
      "text/html": "<div>\n<style scoped>\n    .dataframe tbody tr th:only-of-type {\n        vertical-align: middle;\n    }\n\n    .dataframe tbody tr th {\n        vertical-align: top;\n    }\n\n    .dataframe thead th {\n        text-align: right;\n    }\n</style>\n<table border=\"1\" class=\"dataframe\">\n  <thead>\n    <tr style=\"text-align: right;\">\n      <th></th>\n      <th>'Airline Code</th>\n      <th>DelayTimes</th>\n      <th>FlightCodes</th>\n      <th>To</th>\n      <th>From</th>\n    </tr>\n  </thead>\n  <tbody>\n    <tr>\n      <th>0</th>\n      <td>Air Canada (!)</td>\n      <td>[21, 40]</td>\n      <td>20015</td>\n      <td>Waterloo</td>\n      <td>Newyork</td>\n    </tr>\n    <tr>\n      <th>1</th>\n      <td>&lt;Air France&gt; (12)</td>\n      <td>[]</td>\n      <td>20025</td>\n      <td>Montreal</td>\n      <td>Toronto</td>\n    </tr>\n    <tr>\n      <th>2</th>\n      <td>(Porter Airways. )</td>\n      <td>[60, 22, 87]</td>\n      <td>20035</td>\n      <td>Calgary</td>\n      <td>Ottawa</td>\n    </tr>\n    <tr>\n      <th>3</th>\n      <td>12. Air France</td>\n      <td>[78, 66]</td>\n      <td>20045</td>\n      <td>Ottawa</td>\n      <td>Vancouver</td>\n    </tr>\n    <tr>\n      <th>4</th>\n      <td>\".\\.Lufthansa.\\.\"</td>\n      <td>[12, 33]</td>\n      <td>20055</td>\n      <td>London</td>\n      <td>Montreal</td>\n    </tr>\n  </tbody>\n</table>\n</div>"
     },
     "execution_count": 10,
     "metadata": {},
     "output_type": "execute_result"
    }
   ],
   "source": [
    "df"
   ],
   "metadata": {
    "collapsed": false,
    "ExecuteTime": {
     "end_time": "2023-09-21T17:11:18.315749Z",
     "start_time": "2023-09-21T17:11:18.258905Z"
    }
   }
  },
  {
   "cell_type": "markdown",
   "source": [
    "# 3. Remove Punctuation in Airline Code"
   ],
   "metadata": {
    "collapsed": false
   }
  },
  {
   "cell_type": "markdown",
   "source": [
    "## Rename the First Columns"
   ],
   "metadata": {
    "collapsed": false
   }
  },
  {
   "cell_type": "code",
   "execution_count": 11,
   "outputs": [],
   "source": [
    "df.columns = ['Airline Code'] + list(df.columns[1:])"
   ],
   "metadata": {
    "collapsed": false,
    "ExecuteTime": {
     "end_time": "2023-09-21T17:11:18.329247Z",
     "start_time": "2023-09-21T17:11:18.274781Z"
    }
   }
  },
  {
   "cell_type": "markdown",
   "source": [
    "## Remove Punctuation"
   ],
   "metadata": {
    "collapsed": false
   }
  },
  {
   "cell_type": "code",
   "execution_count": 12,
   "outputs": [],
   "source": [
    "df['Airline Code'] = df['Airline Code'].str.replace(r'[\\\\{0}]'.format(string.punctuation), '', regex = True)"
   ],
   "metadata": {
    "collapsed": false,
    "ExecuteTime": {
     "end_time": "2023-09-21T17:11:18.329844Z",
     "start_time": "2023-09-21T17:11:18.289894Z"
    }
   }
  },
  {
   "cell_type": "code",
   "execution_count": 13,
   "outputs": [
    {
     "data": {
      "text/plain": "      Airline Code    DelayTimes  FlightCodes        To       From\n0      Air Canada       [21, 40]        20015  Waterloo    Newyork\n1    Air France 12            []        20025  Montreal    Toronto\n2  Porter Airways   [60, 22, 87]        20035   Calgary     Ottawa\n3    12 Air France      [78, 66]        20045    Ottawa  Vancouver\n4        Lufthansa      [12, 33]        20055    London   Montreal",
      "text/html": "<div>\n<style scoped>\n    .dataframe tbody tr th:only-of-type {\n        vertical-align: middle;\n    }\n\n    .dataframe tbody tr th {\n        vertical-align: top;\n    }\n\n    .dataframe thead th {\n        text-align: right;\n    }\n</style>\n<table border=\"1\" class=\"dataframe\">\n  <thead>\n    <tr style=\"text-align: right;\">\n      <th></th>\n      <th>Airline Code</th>\n      <th>DelayTimes</th>\n      <th>FlightCodes</th>\n      <th>To</th>\n      <th>From</th>\n    </tr>\n  </thead>\n  <tbody>\n    <tr>\n      <th>0</th>\n      <td>Air Canada</td>\n      <td>[21, 40]</td>\n      <td>20015</td>\n      <td>Waterloo</td>\n      <td>Newyork</td>\n    </tr>\n    <tr>\n      <th>1</th>\n      <td>Air France 12</td>\n      <td>[]</td>\n      <td>20025</td>\n      <td>Montreal</td>\n      <td>Toronto</td>\n    </tr>\n    <tr>\n      <th>2</th>\n      <td>Porter Airways</td>\n      <td>[60, 22, 87]</td>\n      <td>20035</td>\n      <td>Calgary</td>\n      <td>Ottawa</td>\n    </tr>\n    <tr>\n      <th>3</th>\n      <td>12 Air France</td>\n      <td>[78, 66]</td>\n      <td>20045</td>\n      <td>Ottawa</td>\n      <td>Vancouver</td>\n    </tr>\n    <tr>\n      <th>4</th>\n      <td>Lufthansa</td>\n      <td>[12, 33]</td>\n      <td>20055</td>\n      <td>London</td>\n      <td>Montreal</td>\n    </tr>\n  </tbody>\n</table>\n</div>"
     },
     "execution_count": 13,
     "metadata": {},
     "output_type": "execute_result"
    }
   ],
   "source": [
    "df"
   ],
   "metadata": {
    "collapsed": false,
    "ExecuteTime": {
     "end_time": "2023-09-21T17:11:18.332946Z",
     "start_time": "2023-09-21T17:11:18.293261Z"
    }
   }
  },
  {
   "cell_type": "markdown",
   "source": [
    "It seems that line 1 and line 2 suggest the same airline"
   ],
   "metadata": {
    "collapsed": false
   }
  },
  {
   "cell_type": "code",
   "execution_count": 14,
   "outputs": [],
   "source": [
    "temp = df.copy()\n",
    "temp.loc[1, 'Airline Code'] = '12 Air France'"
   ],
   "metadata": {
    "collapsed": false,
    "ExecuteTime": {
     "end_time": "2023-09-21T17:11:18.349470Z",
     "start_time": "2023-09-21T17:11:18.316287Z"
    }
   }
  },
  {
   "cell_type": "code",
   "execution_count": 15,
   "outputs": [
    {
     "data": {
      "text/plain": "      Airline Code    DelayTimes  FlightCodes        To       From\n0      Air Canada       [21, 40]        20015  Waterloo    Newyork\n1    12 Air France            []        20025  Montreal    Toronto\n2  Porter Airways   [60, 22, 87]        20035   Calgary     Ottawa\n3    12 Air France      [78, 66]        20045    Ottawa  Vancouver\n4        Lufthansa      [12, 33]        20055    London   Montreal",
      "text/html": "<div>\n<style scoped>\n    .dataframe tbody tr th:only-of-type {\n        vertical-align: middle;\n    }\n\n    .dataframe tbody tr th {\n        vertical-align: top;\n    }\n\n    .dataframe thead th {\n        text-align: right;\n    }\n</style>\n<table border=\"1\" class=\"dataframe\">\n  <thead>\n    <tr style=\"text-align: right;\">\n      <th></th>\n      <th>Airline Code</th>\n      <th>DelayTimes</th>\n      <th>FlightCodes</th>\n      <th>To</th>\n      <th>From</th>\n    </tr>\n  </thead>\n  <tbody>\n    <tr>\n      <th>0</th>\n      <td>Air Canada</td>\n      <td>[21, 40]</td>\n      <td>20015</td>\n      <td>Waterloo</td>\n      <td>Newyork</td>\n    </tr>\n    <tr>\n      <th>1</th>\n      <td>12 Air France</td>\n      <td>[]</td>\n      <td>20025</td>\n      <td>Montreal</td>\n      <td>Toronto</td>\n    </tr>\n    <tr>\n      <th>2</th>\n      <td>Porter Airways</td>\n      <td>[60, 22, 87]</td>\n      <td>20035</td>\n      <td>Calgary</td>\n      <td>Ottawa</td>\n    </tr>\n    <tr>\n      <th>3</th>\n      <td>12 Air France</td>\n      <td>[78, 66]</td>\n      <td>20045</td>\n      <td>Ottawa</td>\n      <td>Vancouver</td>\n    </tr>\n    <tr>\n      <th>4</th>\n      <td>Lufthansa</td>\n      <td>[12, 33]</td>\n      <td>20055</td>\n      <td>London</td>\n      <td>Montreal</td>\n    </tr>\n  </tbody>\n</table>\n</div>"
     },
     "execution_count": 15,
     "metadata": {},
     "output_type": "execute_result"
    }
   ],
   "source": [
    "temp"
   ],
   "metadata": {
    "collapsed": false,
    "ExecuteTime": {
     "end_time": "2023-09-21T17:11:18.349723Z",
     "start_time": "2023-09-21T17:11:18.316644Z"
    }
   }
  },
  {
   "cell_type": "markdown",
   "source": [
    "I created a new dataframe called temp to reflect this change as it is just me inferred from the context. Such decision may not be correct and require professional judgement."
   ],
   "metadata": {
    "collapsed": false
   }
  }
 ],
 "metadata": {
  "kernelspec": {
   "display_name": "Python 3",
   "language": "python",
   "name": "python3"
  },
  "language_info": {
   "codemirror_mode": {
    "name": "ipython",
    "version": 2
   },
   "file_extension": ".py",
   "mimetype": "text/x-python",
   "name": "python",
   "nbconvert_exporter": "python",
   "pygments_lexer": "ipython2",
   "version": "2.7.6"
  }
 },
 "nbformat": 4,
 "nbformat_minor": 0
}
